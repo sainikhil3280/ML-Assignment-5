{
 "cells": [
  {
   "cell_type": "code",
   "execution_count": 91,
   "id": "347bbfb3",
   "metadata": {},
   "outputs": [],
   "source": [
    "import numpy as np\n",
    "import matplotlib.pyplot as plt\n",
    "import pandas as pd\n",
    "import seaborn as sns\n",
    "from sklearn import preprocessing, metrics\n",
    "from sklearn.preprocessing import StandardScaler, LabelEncoder\n",
    "from sklearn.model_selection import train_test_split\n",
    "from sklearn.metrics import accuracy_score, classification_report, confusion_matrix\n",
    "from sklearn.decomposition import PCA\n",
    "from sklearn.cluster import KMeans"
   ]
  },
  {
   "cell_type": "markdown",
   "id": "6d6dfd88",
   "metadata": {},
   "source": [
    "## Question 1"
   ]
  },
  {
   "cell_type": "code",
   "execution_count": 92,
   "id": "dd971866",
   "metadata": {},
   "outputs": [
    {
     "data": {
      "text/html": [
       "<div>\n",
       "<style scoped>\n",
       "    .dataframe tbody tr th:only-of-type {\n",
       "        vertical-align: middle;\n",
       "    }\n",
       "\n",
       "    .dataframe tbody tr th {\n",
       "        vertical-align: top;\n",
       "    }\n",
       "\n",
       "    .dataframe thead th {\n",
       "        text-align: right;\n",
       "    }\n",
       "</style>\n",
       "<table border=\"1\" class=\"dataframe\">\n",
       "  <thead>\n",
       "    <tr style=\"text-align: right;\">\n",
       "      <th></th>\n",
       "      <th>CUST_ID</th>\n",
       "      <th>BALANCE</th>\n",
       "      <th>BALANCE_FREQUENCY</th>\n",
       "      <th>PURCHASES</th>\n",
       "      <th>ONEOFF_PURCHASES</th>\n",
       "      <th>INSTALLMENTS_PURCHASES</th>\n",
       "      <th>CASH_ADVANCE</th>\n",
       "      <th>PURCHASES_FREQUENCY</th>\n",
       "      <th>ONEOFF_PURCHASES_FREQUENCY</th>\n",
       "      <th>PURCHASES_INSTALLMENTS_FREQUENCY</th>\n",
       "      <th>CASH_ADVANCE_FREQUENCY</th>\n",
       "      <th>CASH_ADVANCE_TRX</th>\n",
       "      <th>PURCHASES_TRX</th>\n",
       "      <th>CREDIT_LIMIT</th>\n",
       "      <th>PAYMENTS</th>\n",
       "      <th>MINIMUM_PAYMENTS</th>\n",
       "      <th>PRC_FULL_PAYMENT</th>\n",
       "      <th>TENURE</th>\n",
       "    </tr>\n",
       "  </thead>\n",
       "  <tbody>\n",
       "    <tr>\n",
       "      <th>0</th>\n",
       "      <td>C10001</td>\n",
       "      <td>40.900749</td>\n",
       "      <td>0.818182</td>\n",
       "      <td>95.40</td>\n",
       "      <td>0.00</td>\n",
       "      <td>95.4</td>\n",
       "      <td>0.000000</td>\n",
       "      <td>0.166667</td>\n",
       "      <td>0.000000</td>\n",
       "      <td>0.083333</td>\n",
       "      <td>0.000000</td>\n",
       "      <td>0</td>\n",
       "      <td>2</td>\n",
       "      <td>1000.0</td>\n",
       "      <td>201.802084</td>\n",
       "      <td>139.509787</td>\n",
       "      <td>0.000000</td>\n",
       "      <td>12</td>\n",
       "    </tr>\n",
       "    <tr>\n",
       "      <th>1</th>\n",
       "      <td>C10002</td>\n",
       "      <td>3202.467416</td>\n",
       "      <td>0.909091</td>\n",
       "      <td>0.00</td>\n",
       "      <td>0.00</td>\n",
       "      <td>0.0</td>\n",
       "      <td>6442.945483</td>\n",
       "      <td>0.000000</td>\n",
       "      <td>0.000000</td>\n",
       "      <td>0.000000</td>\n",
       "      <td>0.250000</td>\n",
       "      <td>4</td>\n",
       "      <td>0</td>\n",
       "      <td>7000.0</td>\n",
       "      <td>4103.032597</td>\n",
       "      <td>1072.340217</td>\n",
       "      <td>0.222222</td>\n",
       "      <td>12</td>\n",
       "    </tr>\n",
       "    <tr>\n",
       "      <th>2</th>\n",
       "      <td>C10003</td>\n",
       "      <td>2495.148862</td>\n",
       "      <td>1.000000</td>\n",
       "      <td>773.17</td>\n",
       "      <td>773.17</td>\n",
       "      <td>0.0</td>\n",
       "      <td>0.000000</td>\n",
       "      <td>1.000000</td>\n",
       "      <td>1.000000</td>\n",
       "      <td>0.000000</td>\n",
       "      <td>0.000000</td>\n",
       "      <td>0</td>\n",
       "      <td>12</td>\n",
       "      <td>7500.0</td>\n",
       "      <td>622.066742</td>\n",
       "      <td>627.284787</td>\n",
       "      <td>0.000000</td>\n",
       "      <td>12</td>\n",
       "    </tr>\n",
       "    <tr>\n",
       "      <th>3</th>\n",
       "      <td>C10004</td>\n",
       "      <td>1666.670542</td>\n",
       "      <td>0.636364</td>\n",
       "      <td>1499.00</td>\n",
       "      <td>1499.00</td>\n",
       "      <td>0.0</td>\n",
       "      <td>205.788017</td>\n",
       "      <td>0.083333</td>\n",
       "      <td>0.083333</td>\n",
       "      <td>0.000000</td>\n",
       "      <td>0.083333</td>\n",
       "      <td>1</td>\n",
       "      <td>1</td>\n",
       "      <td>7500.0</td>\n",
       "      <td>0.000000</td>\n",
       "      <td>NaN</td>\n",
       "      <td>0.000000</td>\n",
       "      <td>12</td>\n",
       "    </tr>\n",
       "    <tr>\n",
       "      <th>4</th>\n",
       "      <td>C10005</td>\n",
       "      <td>817.714335</td>\n",
       "      <td>1.000000</td>\n",
       "      <td>16.00</td>\n",
       "      <td>16.00</td>\n",
       "      <td>0.0</td>\n",
       "      <td>0.000000</td>\n",
       "      <td>0.083333</td>\n",
       "      <td>0.083333</td>\n",
       "      <td>0.000000</td>\n",
       "      <td>0.000000</td>\n",
       "      <td>0</td>\n",
       "      <td>1</td>\n",
       "      <td>1200.0</td>\n",
       "      <td>678.334763</td>\n",
       "      <td>244.791237</td>\n",
       "      <td>0.000000</td>\n",
       "      <td>12</td>\n",
       "    </tr>\n",
       "  </tbody>\n",
       "</table>\n",
       "</div>"
      ],
      "text/plain": [
       "  CUST_ID      BALANCE  BALANCE_FREQUENCY  PURCHASES  ONEOFF_PURCHASES  \\\n",
       "0  C10001    40.900749           0.818182      95.40              0.00   \n",
       "1  C10002  3202.467416           0.909091       0.00              0.00   \n",
       "2  C10003  2495.148862           1.000000     773.17            773.17   \n",
       "3  C10004  1666.670542           0.636364    1499.00           1499.00   \n",
       "4  C10005   817.714335           1.000000      16.00             16.00   \n",
       "\n",
       "   INSTALLMENTS_PURCHASES  CASH_ADVANCE  PURCHASES_FREQUENCY  \\\n",
       "0                    95.4      0.000000             0.166667   \n",
       "1                     0.0   6442.945483             0.000000   \n",
       "2                     0.0      0.000000             1.000000   \n",
       "3                     0.0    205.788017             0.083333   \n",
       "4                     0.0      0.000000             0.083333   \n",
       "\n",
       "   ONEOFF_PURCHASES_FREQUENCY  PURCHASES_INSTALLMENTS_FREQUENCY  \\\n",
       "0                    0.000000                          0.083333   \n",
       "1                    0.000000                          0.000000   \n",
       "2                    1.000000                          0.000000   \n",
       "3                    0.083333                          0.000000   \n",
       "4                    0.083333                          0.000000   \n",
       "\n",
       "   CASH_ADVANCE_FREQUENCY  CASH_ADVANCE_TRX  PURCHASES_TRX  CREDIT_LIMIT  \\\n",
       "0                0.000000                 0              2        1000.0   \n",
       "1                0.250000                 4              0        7000.0   \n",
       "2                0.000000                 0             12        7500.0   \n",
       "3                0.083333                 1              1        7500.0   \n",
       "4                0.000000                 0              1        1200.0   \n",
       "\n",
       "      PAYMENTS  MINIMUM_PAYMENTS  PRC_FULL_PAYMENT  TENURE  \n",
       "0   201.802084        139.509787          0.000000      12  \n",
       "1  4103.032597       1072.340217          0.222222      12  \n",
       "2   622.066742        627.284787          0.000000      12  \n",
       "3     0.000000               NaN          0.000000      12  \n",
       "4   678.334763        244.791237          0.000000      12  "
      ]
     },
     "execution_count": 92,
     "metadata": {},
     "output_type": "execute_result"
    }
   ],
   "source": [
    "df= pd.read_csv(\"CC.csv\")\n",
    "df.head()"
   ]
  },
  {
   "cell_type": "code",
   "execution_count": 93,
   "id": "9db32e2c",
   "metadata": {},
   "outputs": [
    {
     "data": {
      "text/plain": [
       "CUST_ID                             False\n",
       "BALANCE                             False\n",
       "BALANCE_FREQUENCY                   False\n",
       "PURCHASES                           False\n",
       "ONEOFF_PURCHASES                    False\n",
       "INSTALLMENTS_PURCHASES              False\n",
       "CASH_ADVANCE                        False\n",
       "PURCHASES_FREQUENCY                 False\n",
       "ONEOFF_PURCHASES_FREQUENCY          False\n",
       "PURCHASES_INSTALLMENTS_FREQUENCY    False\n",
       "CASH_ADVANCE_FREQUENCY              False\n",
       "CASH_ADVANCE_TRX                    False\n",
       "PURCHASES_TRX                       False\n",
       "CREDIT_LIMIT                         True\n",
       "PAYMENTS                            False\n",
       "MINIMUM_PAYMENTS                     True\n",
       "PRC_FULL_PAYMENT                    False\n",
       "TENURE                              False\n",
       "dtype: bool"
      ]
     },
     "execution_count": 93,
     "metadata": {},
     "output_type": "execute_result"
    }
   ],
   "source": [
    "df.isnull().any()"
   ]
  },
  {
   "cell_type": "code",
   "execution_count": 94,
   "id": "53e661e0",
   "metadata": {},
   "outputs": [
    {
     "name": "stderr",
     "output_type": "stream",
     "text": [
      "C:\\Users\\Saini\\AppData\\Local\\Temp\\ipykernel_2348\\1631043325.py:1: FutureWarning: Dropping of nuisance columns in DataFrame reductions (with 'numeric_only=None') is deprecated; in a future version this will raise TypeError.  Select only valid columns before calling the reduction.\n",
      "  df.fillna(df.mean(), inplace=True)\n"
     ]
    },
    {
     "data": {
      "text/plain": [
       "CUST_ID                             False\n",
       "BALANCE                             False\n",
       "BALANCE_FREQUENCY                   False\n",
       "PURCHASES                           False\n",
       "ONEOFF_PURCHASES                    False\n",
       "INSTALLMENTS_PURCHASES              False\n",
       "CASH_ADVANCE                        False\n",
       "PURCHASES_FREQUENCY                 False\n",
       "ONEOFF_PURCHASES_FREQUENCY          False\n",
       "PURCHASES_INSTALLMENTS_FREQUENCY    False\n",
       "CASH_ADVANCE_FREQUENCY              False\n",
       "CASH_ADVANCE_TRX                    False\n",
       "PURCHASES_TRX                       False\n",
       "CREDIT_LIMIT                        False\n",
       "PAYMENTS                            False\n",
       "MINIMUM_PAYMENTS                    False\n",
       "PRC_FULL_PAYMENT                    False\n",
       "TENURE                              False\n",
       "dtype: bool"
      ]
     },
     "execution_count": 94,
     "metadata": {},
     "output_type": "execute_result"
    }
   ],
   "source": [
    "df.fillna(df.mean(), inplace=True)\n",
    "df.isnull().any()"
   ]
  },
  {
   "cell_type": "code",
   "execution_count": 95,
   "id": "40def91b",
   "metadata": {},
   "outputs": [
    {
     "name": "stdout",
     "output_type": "stream",
     "text": [
      "(8950, 16) (8950,)\n"
     ]
    }
   ],
   "source": [
    "x = df.iloc[:,1:-1]\n",
    "y = df.iloc[:,-1]\n",
    "print(x.shape,y.shape)"
   ]
  },
  {
   "cell_type": "code",
   "execution_count": 96,
   "id": "b723bce6",
   "metadata": {},
   "outputs": [
    {
     "data": {
      "text/html": [
       "<div>\n",
       "<style scoped>\n",
       "    .dataframe tbody tr th:only-of-type {\n",
       "        vertical-align: middle;\n",
       "    }\n",
       "\n",
       "    .dataframe tbody tr th {\n",
       "        vertical-align: top;\n",
       "    }\n",
       "\n",
       "    .dataframe thead th {\n",
       "        text-align: right;\n",
       "    }\n",
       "</style>\n",
       "<table border=\"1\" class=\"dataframe\">\n",
       "  <thead>\n",
       "    <tr style=\"text-align: right;\">\n",
       "      <th></th>\n",
       "      <th>Principal Component 1</th>\n",
       "      <th>Principal Component 2</th>\n",
       "      <th>Principal Component 3</th>\n",
       "      <th>TENURE</th>\n",
       "    </tr>\n",
       "  </thead>\n",
       "  <tbody>\n",
       "    <tr>\n",
       "      <th>0</th>\n",
       "      <td>-4326.383979</td>\n",
       "      <td>921.566882</td>\n",
       "      <td>183.708383</td>\n",
       "      <td>12</td>\n",
       "    </tr>\n",
       "    <tr>\n",
       "      <th>1</th>\n",
       "      <td>4118.916665</td>\n",
       "      <td>-2432.846346</td>\n",
       "      <td>2369.969289</td>\n",
       "      <td>12</td>\n",
       "    </tr>\n",
       "    <tr>\n",
       "      <th>2</th>\n",
       "      <td>1497.907641</td>\n",
       "      <td>-1997.578694</td>\n",
       "      <td>-2125.631328</td>\n",
       "      <td>12</td>\n",
       "    </tr>\n",
       "    <tr>\n",
       "      <th>3</th>\n",
       "      <td>1394.548536</td>\n",
       "      <td>-1488.743453</td>\n",
       "      <td>-2431.799649</td>\n",
       "      <td>12</td>\n",
       "    </tr>\n",
       "    <tr>\n",
       "      <th>4</th>\n",
       "      <td>-3743.351896</td>\n",
       "      <td>757.342657</td>\n",
       "      <td>512.476492</td>\n",
       "      <td>12</td>\n",
       "    </tr>\n",
       "  </tbody>\n",
       "</table>\n",
       "</div>"
      ],
      "text/plain": [
       "   Principal Component 1  Principal Component 2  Principal Component 3  TENURE\n",
       "0           -4326.383979             921.566882             183.708383      12\n",
       "1            4118.916665           -2432.846346            2369.969289      12\n",
       "2            1497.907641           -1997.578694           -2125.631328      12\n",
       "3            1394.548536           -1488.743453           -2431.799649      12\n",
       "4           -3743.351896             757.342657             512.476492      12"
      ]
     },
     "execution_count": 96,
     "metadata": {},
     "output_type": "execute_result"
    }
   ],
   "source": [
    "# Apply PCA on CC Dataset \n",
    "pca = PCA(3)\n",
    "x_pca = pca.fit_transform(x)\n",
    "principalDf = pd.DataFrame(data = x_pca, columns = ['Principal Component 1', 'Principal Component 2', 'Principal Component 3'])\n",
    "finalDf = pd.concat([principalDf, df.iloc[:,-1]], axis = 1)\n",
    "finalDf.head()"
   ]
  },
  {
   "cell_type": "code",
   "execution_count": 97,
   "id": "0b95f200",
   "metadata": {},
   "outputs": [],
   "source": [
    "# Applying K Means on PCA Result\n",
    "X = finalDf.iloc[:,0:-1]\n",
    "y = finalDf.iloc[:,-1]"
   ]
  },
  {
   "cell_type": "code",
   "execution_count": 98,
   "id": "8e925c4f",
   "metadata": {},
   "outputs": [
    {
     "name": "stdout",
     "output_type": "stream",
     "text": [
      "Sihouette Score:  0.5109769750121258\n"
     ]
    }
   ],
   "source": [
    "nclusters = 3 \n",
    "km = KMeans(n_clusters=nclusters)\n",
    "km.fit(X)\n",
    "y_cluster_kmeans = km.predict(X)\n",
    "\n",
    "train_accuracy = accuracy_score(y, y_cluster_kmeans)\n",
    "score = metrics.silhouette_score(X, y_cluster_kmeans)\n",
    "print(\"Sihouette Score: \",score) \n"
   ]
  },
  {
   "cell_type": "code",
   "execution_count": 99,
   "id": "dafe085a",
   "metadata": {},
   "outputs": [
    {
     "name": "stdout",
     "output_type": "stream",
     "text": [
      "(8950, 16) (8950,)\n"
     ]
    }
   ],
   "source": [
    "# Applying Scaling,PCA and KMeans\n",
    "x = df.iloc[:,1:-1]\n",
    "y = df.iloc[:,-1]\n",
    "print(x.shape,y.shape)"
   ]
  },
  {
   "cell_type": "code",
   "execution_count": 100,
   "id": "3c52f882",
   "metadata": {},
   "outputs": [
    {
     "data": {
      "text/html": [
       "<div>\n",
       "<style scoped>\n",
       "    .dataframe tbody tr th:only-of-type {\n",
       "        vertical-align: middle;\n",
       "    }\n",
       "\n",
       "    .dataframe tbody tr th {\n",
       "        vertical-align: top;\n",
       "    }\n",
       "\n",
       "    .dataframe thead th {\n",
       "        text-align: right;\n",
       "    }\n",
       "</style>\n",
       "<table border=\"1\" class=\"dataframe\">\n",
       "  <thead>\n",
       "    <tr style=\"text-align: right;\">\n",
       "      <th></th>\n",
       "      <th>principal component 1</th>\n",
       "      <th>principal component 2</th>\n",
       "      <th>principal component 3</th>\n",
       "      <th>TENURE</th>\n",
       "    </tr>\n",
       "  </thead>\n",
       "  <tbody>\n",
       "    <tr>\n",
       "      <th>0</th>\n",
       "      <td>-1.718893</td>\n",
       "      <td>-1.072940</td>\n",
       "      <td>0.535727</td>\n",
       "      <td>12</td>\n",
       "    </tr>\n",
       "    <tr>\n",
       "      <th>1</th>\n",
       "      <td>-1.169305</td>\n",
       "      <td>2.509311</td>\n",
       "      <td>0.628455</td>\n",
       "      <td>12</td>\n",
       "    </tr>\n",
       "    <tr>\n",
       "      <th>2</th>\n",
       "      <td>0.938413</td>\n",
       "      <td>-0.382590</td>\n",
       "      <td>0.160677</td>\n",
       "      <td>12</td>\n",
       "    </tr>\n",
       "    <tr>\n",
       "      <th>3</th>\n",
       "      <td>-0.907502</td>\n",
       "      <td>0.045853</td>\n",
       "      <td>1.522015</td>\n",
       "      <td>12</td>\n",
       "    </tr>\n",
       "    <tr>\n",
       "      <th>4</th>\n",
       "      <td>-1.637830</td>\n",
       "      <td>-0.684973</td>\n",
       "      <td>0.425582</td>\n",
       "      <td>12</td>\n",
       "    </tr>\n",
       "  </tbody>\n",
       "</table>\n",
       "</div>"
      ],
      "text/plain": [
       "   principal component 1  principal component 2  principal component 3  TENURE\n",
       "0              -1.718893              -1.072940               0.535727      12\n",
       "1              -1.169305               2.509311               0.628455      12\n",
       "2               0.938413              -0.382590               0.160677      12\n",
       "3              -0.907502               0.045853               1.522015      12\n",
       "4              -1.637830              -0.684973               0.425582      12"
      ]
     },
     "execution_count": 100,
     "metadata": {},
     "output_type": "execute_result"
    }
   ],
   "source": [
    "#Scaling\n",
    "scaler = StandardScaler()\n",
    "scaler.fit(x)\n",
    "X_scaled_array = scaler.transform(x)\n",
    "#PCA\n",
    "pca = PCA(3)\n",
    "x_pca = pca.fit_transform(X_scaled_array)\n",
    "principalDf = pd.DataFrame(data = x_pca, columns = ['principal component 1', 'principal component 2','principal component 3'])\n",
    "finalDf = pd.concat([principalDf, df.iloc[:,-1]], axis = 1)\n",
    "finalDf.head()"
   ]
  },
  {
   "cell_type": "code",
   "execution_count": 101,
   "id": "ef0328e6",
   "metadata": {},
   "outputs": [
    {
     "name": "stdout",
     "output_type": "stream",
     "text": [
      "(8950, 3) (8950,)\n"
     ]
    }
   ],
   "source": [
    "X = finalDf.iloc[:,0:-1]\n",
    "y = finalDf[\"TENURE\"]\n",
    "print(X.shape,y.shape)"
   ]
  },
  {
   "cell_type": "code",
   "execution_count": 102,
   "id": "e1ea9335",
   "metadata": {},
   "outputs": [
    {
     "name": "stdout",
     "output_type": "stream",
     "text": [
      "              precision    recall  f1-score   support\n",
      "\n",
      "           0       0.00      1.00      0.00       0.0\n",
      "           1       0.00      1.00      0.00       0.0\n",
      "           2       0.00      1.00      0.00       0.0\n",
      "           6       1.00      0.00      0.00     139.0\n",
      "           7       1.00      0.00      0.00     135.0\n",
      "           8       1.00      0.00      0.00     128.0\n",
      "           9       1.00      0.00      0.00     118.0\n",
      "          10       1.00      0.00      0.00     151.0\n",
      "          11       1.00      0.00      0.00     262.0\n",
      "          12       1.00      0.00      0.00    4974.0\n",
      "\n",
      "    accuracy                           0.00    5907.0\n",
      "   macro avg       0.70      0.30      0.00    5907.0\n",
      "weighted avg       1.00      0.00      0.00    5907.0\n",
      "\n",
      "[[   0    0    0    0    0    0    0    0    0    0]\n",
      " [   0    0    0    0    0    0    0    0    0    0]\n",
      " [   0    0    0    0    0    0    0    0    0    0]\n",
      " [  30  105    4    0    0    0    0    0    0    0]\n",
      " [  26  108    1    0    0    0    0    0    0    0]\n",
      " [  28   96    4    0    0    0    0    0    0    0]\n",
      " [  27   89    2    0    0    0    0    0    0    0]\n",
      " [  38  107    6    0    0    0    0    0    0    0]\n",
      " [  66  185   11    0    0    0    0    0    0    0]\n",
      " [ 843 3399  732    0    0    0    0    0    0    0]]\n",
      "Accuracy for our Training dataset with PCA: 0.0\n",
      "Sihouette Score:  0.38195870246511726\n"
     ]
    }
   ],
   "source": [
    "X_train, X_test, y_train, y_test = train_test_split(X,y, test_size=0.34,random_state=0)\n",
    "nclusters = 3 \n",
    "# this is the k in kmeans\n",
    "km = KMeans(n_clusters=nclusters)\n",
    "km.fit(X_train,y_train)\n",
    "\n",
    "\n",
    "# predict the cluster for each training data point\n",
    "y_clus_train = km.predict(X_train)\n",
    "\n",
    "# Summary of the predictions made by the classifier\n",
    "print(classification_report(y_train, y_clus_train, zero_division=1))\n",
    "print(confusion_matrix(y_train, y_clus_train))\n",
    "\n",
    "train_accuracy = accuracy_score(y_train, y_clus_train)\n",
    "print(\"Accuracy for our Training dataset with PCA:\", train_accuracy)\n",
    "\n",
    "#Calculate sihouette Score\n",
    "score = metrics.silhouette_score(X_train, y_clus_train)\n",
    "print(\"Sihouette Score: \",score) "
   ]
  },
  {
   "cell_type": "code",
   "execution_count": 103,
   "id": "172a8c7d",
   "metadata": {},
   "outputs": [
    {
     "name": "stdout",
     "output_type": "stream",
     "text": [
      "              precision    recall  f1-score   support\n",
      "\n",
      "           0       0.00      1.00      0.00       0.0\n",
      "           1       0.00      1.00      0.00       0.0\n",
      "           2       0.00      1.00      0.00       0.0\n",
      "           6       1.00      0.00      0.00      65.0\n",
      "           7       1.00      0.00      0.00      55.0\n",
      "           8       1.00      0.00      0.00      68.0\n",
      "           9       1.00      0.00      0.00      57.0\n",
      "          10       1.00      0.00      0.00      85.0\n",
      "          11       1.00      0.00      0.00     103.0\n",
      "          12       1.00      0.00      0.00    2610.0\n",
      "\n",
      "    accuracy                           0.00    3043.0\n",
      "   macro avg       0.70      0.30      0.00    3043.0\n",
      "weighted avg       1.00      0.00      0.00    3043.0\n",
      "\n",
      "[[   0    0    0    0    0    0    0    0    0    0]\n",
      " [   0    0    0    0    0    0    0    0    0    0]\n",
      " [   0    0    0    0    0    0    0    0    0    0]\n",
      " [  21   41    3    0    0    0    0    0    0    0]\n",
      " [  12   43    0    0    0    0    0    0    0    0]\n",
      " [  10   57    1    0    0    0    0    0    0    0]\n",
      " [  21   36    0    0    0    0    0    0    0    0]\n",
      " [  17   63    5    0    0    0    0    0    0    0]\n",
      " [  30   69    4    0    0    0    0    0    0    0]\n",
      " [ 446 1771  393    0    0    0    0    0    0    0]]\n",
      "\n",
      "Accuracy for our Training dataset with PCA: 0.0\n",
      "Sihouette Score:  0.38480256457055356\n"
     ]
    }
   ],
   "source": [
    "# predict the cluster for each testing data point\n",
    "y_clus_test = km.predict(X_test)\n",
    "\n",
    "# Summary of the predictions made by the classifier\n",
    "print(classification_report(y_test, y_clus_test, zero_division=1))\n",
    "print(confusion_matrix(y_test, y_clus_test))\n",
    "\n",
    "train_accuracy = accuracy_score(y_test, y_clus_test)\n",
    "print(\"\\nAccuracy for our Training dataset with PCA:\", train_accuracy)\n",
    "\n",
    "#Calculate sihouette Score\n",
    "score = metrics.silhouette_score(X_test, y_clus_test)\n",
    "print(\"Sihouette Score: \",score) "
   ]
  },
  {
   "cell_type": "markdown",
   "id": "e4657c0f",
   "metadata": {},
   "source": [
    "## Question 2"
   ]
  },
  {
   "cell_type": "code",
   "execution_count": 104,
   "id": "d2cd3343",
   "metadata": {},
   "outputs": [],
   "source": [
    "pd_df = pd.read_csv('pd_speech_features.csv')"
   ]
  },
  {
   "cell_type": "code",
   "execution_count": 105,
   "id": "245c3c22",
   "metadata": {},
   "outputs": [
    {
     "data": {
      "text/plain": [
       "id                           False\n",
       "gender                       False\n",
       "PPE                          False\n",
       "DFA                          False\n",
       "RPDE                         False\n",
       "                             ...  \n",
       "tqwt_kurtosisValue_dec_33    False\n",
       "tqwt_kurtosisValue_dec_34    False\n",
       "tqwt_kurtosisValue_dec_35    False\n",
       "tqwt_kurtosisValue_dec_36    False\n",
       "class                        False\n",
       "Length: 755, dtype: bool"
      ]
     },
     "execution_count": 105,
     "metadata": {},
     "output_type": "execute_result"
    }
   ],
   "source": [
    "pd_df.isnull().any()"
   ]
  },
  {
   "cell_type": "code",
   "execution_count": 106,
   "id": "30e68d13",
   "metadata": {},
   "outputs": [],
   "source": [
    "X = pd_df.drop('class',axis=1).values\n",
    "y = pd_df['class'].values"
   ]
  },
  {
   "cell_type": "code",
   "execution_count": 107,
   "id": "0e8372a4",
   "metadata": {},
   "outputs": [],
   "source": [
    "#Scaling Data\n",
    "scaler = StandardScaler()\n",
    "X_Scale = scaler.fit_transform(X)"
   ]
  },
  {
   "cell_type": "code",
   "execution_count": 108,
   "id": "709c40e4",
   "metadata": {},
   "outputs": [
    {
     "data": {
      "text/html": [
       "<div>\n",
       "<style scoped>\n",
       "    .dataframe tbody tr th:only-of-type {\n",
       "        vertical-align: middle;\n",
       "    }\n",
       "\n",
       "    .dataframe tbody tr th {\n",
       "        vertical-align: top;\n",
       "    }\n",
       "\n",
       "    .dataframe thead th {\n",
       "        text-align: right;\n",
       "    }\n",
       "</style>\n",
       "<table border=\"1\" class=\"dataframe\">\n",
       "  <thead>\n",
       "    <tr style=\"text-align: right;\">\n",
       "      <th></th>\n",
       "      <th>principal component 1</th>\n",
       "      <th>principal component 2</th>\n",
       "      <th>Principal Component 3</th>\n",
       "      <th>class</th>\n",
       "    </tr>\n",
       "  </thead>\n",
       "  <tbody>\n",
       "    <tr>\n",
       "      <th>0</th>\n",
       "      <td>-10.047372</td>\n",
       "      <td>1.471076</td>\n",
       "      <td>-6.846402</td>\n",
       "      <td>1</td>\n",
       "    </tr>\n",
       "    <tr>\n",
       "      <th>1</th>\n",
       "      <td>-10.637725</td>\n",
       "      <td>1.583749</td>\n",
       "      <td>-6.830976</td>\n",
       "      <td>1</td>\n",
       "    </tr>\n",
       "    <tr>\n",
       "      <th>2</th>\n",
       "      <td>-13.516185</td>\n",
       "      <td>-1.253543</td>\n",
       "      <td>-6.818697</td>\n",
       "      <td>1</td>\n",
       "    </tr>\n",
       "    <tr>\n",
       "      <th>3</th>\n",
       "      <td>-9.155084</td>\n",
       "      <td>8.833602</td>\n",
       "      <td>15.290897</td>\n",
       "      <td>1</td>\n",
       "    </tr>\n",
       "    <tr>\n",
       "      <th>4</th>\n",
       "      <td>-6.764470</td>\n",
       "      <td>4.611469</td>\n",
       "      <td>15.637113</td>\n",
       "      <td>1</td>\n",
       "    </tr>\n",
       "  </tbody>\n",
       "</table>\n",
       "</div>"
      ],
      "text/plain": [
       "   principal component 1  principal component 2  Principal Component 3  class\n",
       "0             -10.047372               1.471076              -6.846402      1\n",
       "1             -10.637725               1.583749              -6.830976      1\n",
       "2             -13.516185              -1.253543              -6.818697      1\n",
       "3              -9.155084               8.833602              15.290897      1\n",
       "4              -6.764470               4.611469              15.637113      1"
      ]
     },
     "execution_count": 108,
     "metadata": {},
     "output_type": "execute_result"
    }
   ],
   "source": [
    "# Apply PCA with k =3\n",
    "pca3 = PCA(n_components=3)\n",
    "principalComponents = pca3.fit_transform(X_Scale)\n",
    "\n",
    "principalDf = pd.DataFrame(data = principalComponents, columns = ['principal component 1', 'principal component 2','Principal Component 3'])\n",
    "\n",
    "finalDf = pd.concat([principalDf, pd_df[['class']]], axis = 1)\n",
    "finalDf.head()"
   ]
  },
  {
   "cell_type": "code",
   "execution_count": 109,
   "id": "106f6b5d",
   "metadata": {},
   "outputs": [],
   "source": [
    "X = finalDf.drop('class',axis=1).values\n",
    "y = finalDf['class'].values\n",
    "X_train, X_test, y_train, y_test = train_test_split(X,y, test_size=0.34,random_state=0)"
   ]
  },
  {
   "cell_type": "code",
   "execution_count": 110,
   "id": "ffe89c30",
   "metadata": {
    "scrolled": true
   },
   "outputs": [
    {
     "name": "stdout",
     "output_type": "stream",
     "text": [
      "              precision    recall  f1-score   support\n",
      "\n",
      "           0       0.67      0.42      0.51        62\n",
      "           1       0.84      0.93      0.88       196\n",
      "\n",
      "    accuracy                           0.81       258\n",
      "   macro avg       0.75      0.68      0.70       258\n",
      "weighted avg       0.80      0.81      0.79       258\n",
      "\n",
      "[[ 26  36]\n",
      " [ 13 183]]\n",
      "accuracy is 0.810077519379845\n",
      "Sihouette Score:  0.2504463833947959\n"
     ]
    }
   ],
   "source": [
    "#SVM's\n",
    "\n",
    "from sklearn.svm import SVC\n",
    "\n",
    "svmClassifier = SVC()\n",
    "svmClassifier.fit(X_train, y_train)\n",
    "\n",
    "y_pred = svmClassifier.predict(X_test)\n",
    "print(classification_report(y_test, y_pred, zero_division=1))\n",
    "print(confusion_matrix(y_test, y_pred))\n",
    "glass_acc_svc = accuracy_score(y_pred,y_test)\n",
    "print('accuracy is',glass_acc_svc )\n",
    "score = metrics.silhouette_score(X_test, y_pred)\n",
    "print(\"Sihouette Score: \",score) "
   ]
  },
  {
   "cell_type": "markdown",
   "id": "d0145071",
   "metadata": {},
   "source": [
    "## Question 3"
   ]
  },
  {
   "cell_type": "code",
   "execution_count": 111,
   "id": "d1cfdc47",
   "metadata": {},
   "outputs": [
    {
     "name": "stdout",
     "output_type": "stream",
     "text": [
      "<class 'pandas.core.frame.DataFrame'>\n",
      "RangeIndex: 150 entries, 0 to 149\n",
      "Data columns (total 6 columns):\n",
      " #   Column         Non-Null Count  Dtype  \n",
      "---  ------         --------------  -----  \n",
      " 0   Id             150 non-null    int64  \n",
      " 1   SepalLengthCm  150 non-null    float64\n",
      " 2   SepalWidthCm   150 non-null    float64\n",
      " 3   PetalLengthCm  150 non-null    float64\n",
      " 4   PetalWidthCm   150 non-null    float64\n",
      " 5   Species        150 non-null    object \n",
      "dtypes: float64(4), int64(1), object(1)\n",
      "memory usage: 7.2+ KB\n"
     ]
    }
   ],
   "source": [
    "#3.Apply Linear Discriminant Analysis (LDA) on Iris.csv dataset to reduce dimensionality of data to k=2. \n",
    "from sklearn.discriminant_analysis import LinearDiscriminantAnalysis\n",
    "df_iris = pd.read_csv('Iris.csv')\n",
    "df_iris.info()"
   ]
  },
  {
   "cell_type": "code",
   "execution_count": 112,
   "id": "b7ea0bef",
   "metadata": {},
   "outputs": [
    {
     "data": {
      "text/plain": [
       "Id               False\n",
       "SepalLengthCm    False\n",
       "SepalWidthCm     False\n",
       "PetalLengthCm    False\n",
       "PetalWidthCm     False\n",
       "Species          False\n",
       "dtype: bool"
      ]
     },
     "execution_count": 112,
     "metadata": {},
     "output_type": "execute_result"
    }
   ],
   "source": [
    "df_iris.isnull().any()"
   ]
  },
  {
   "cell_type": "code",
   "execution_count": 113,
   "id": "ef1044d4",
   "metadata": {},
   "outputs": [
    {
     "name": "stdout",
     "output_type": "stream",
     "text": [
      "(150, 4) (150,)\n"
     ]
    }
   ],
   "source": [
    "x = df_iris.iloc[:,1:-1]\n",
    "y = df_iris.iloc[:,-1]\n",
    "print(x.shape,y.shape)"
   ]
  },
  {
   "cell_type": "code",
   "execution_count": 114,
   "id": "ac80d37a",
   "metadata": {},
   "outputs": [],
   "source": [
    "X_train, X_test, y_train, y_test = train_test_split(x, y, test_size=0.3, random_state=0)"
   ]
  },
  {
   "cell_type": "code",
   "execution_count": 115,
   "id": "2927193d",
   "metadata": {},
   "outputs": [],
   "source": [
    "sc = StandardScaler()\n",
    "X_train = sc.fit_transform(X_train)\n",
    "X_test = sc.transform(X_test)\n",
    "le = LabelEncoder()\n",
    "y = le.fit_transform(y)"
   ]
  },
  {
   "cell_type": "code",
   "execution_count": 116,
   "id": "6f21abc8",
   "metadata": {},
   "outputs": [
    {
     "name": "stdout",
     "output_type": "stream",
     "text": [
      "(105, 2) (45, 2)\n"
     ]
    }
   ],
   "source": [
    "from sklearn.discriminant_analysis import LinearDiscriminantAnalysis as LDA\n",
    "lda = LDA(n_components=2)\n",
    "X_train = lda.fit_transform(X_train, y_train)\n",
    "X_test = lda.transform(X_test)\n",
    "print(X_train.shape,X_test.shape)"
   ]
  },
  {
   "cell_type": "code",
   "execution_count": 117,
   "id": "e8b7793a",
   "metadata": {},
   "outputs": [
    {
     "data": {
      "text/plain": [
       "'Both LDA and PCA rely on linear transformations and aim to maximize the variance in a lower dimension. PCA is an unsupervised learning algorithm while LDA is a supervised learning algorithm. This means that PCA finds directions of maximum variance regardless of class labels while LDA finds directions of maximum class separability'"
      ]
     },
     "execution_count": 117,
     "metadata": {},
     "output_type": "execute_result"
    }
   ],
   "source": [
    "#4. Briefly identify the difference between PCA and LDA\n",
    "\n",
    "\"\"\"Both LDA and PCA rely on linear transformations and aim to maximize the variance in a lower dimension. PCA is an unsupervised learning algorithm while LDA is a supervised learning algorithm. This means that PCA finds directions of maximum variance regardless of class labels while LDA finds directions of maximum class separability\"\"\""
   ]
  },
  {
   "cell_type": "code",
   "execution_count": 118,
   "id": "ecad88d0",
   "metadata": {},
   "outputs": [
    {
     "data": {
      "text/plain": [
       "'It reduces the features into a smaller subset of orthogonal variables, called principal components – linear combinations of the original variables. The first component captures the largest variability of the data, while the second captures the second largest, and so on.'"
      ]
     },
     "execution_count": 118,
     "metadata": {},
     "output_type": "execute_result"
    }
   ],
   "source": [
    "#PCA\n",
    "\"\"\"It reduces the features into a smaller subset of orthogonal variables, called principal components – linear combinations of the original variables. The first component captures the largest variability of the data, while the second captures the second largest, and so on.\"\"\""
   ]
  },
  {
   "cell_type": "code",
   "execution_count": 119,
   "id": "da217f3f",
   "metadata": {},
   "outputs": [
    {
     "data": {
      "text/plain": [
       "'LDA finds the linear discriminants in order to maximize the variance between the different categories while minimizing the variance within the class.'"
      ]
     },
     "execution_count": 119,
     "metadata": {},
     "output_type": "execute_result"
    }
   ],
   "source": [
    "#LDA\n",
    "\"\"\"LDA finds the linear discriminants in order to maximize the variance between the different categories while minimizing the variance within the class.\"\"\""
   ]
  },
  {
   "cell_type": "code",
   "execution_count": null,
   "id": "89de208b",
   "metadata": {},
   "outputs": [],
   "source": []
  }
 ],
 "metadata": {
  "kernelspec": {
   "display_name": "Python 3 (ipykernel)",
   "language": "python",
   "name": "python3"
  },
  "language_info": {
   "codemirror_mode": {
    "name": "ipython",
    "version": 3
   },
   "file_extension": ".py",
   "mimetype": "text/x-python",
   "name": "python",
   "nbconvert_exporter": "python",
   "pygments_lexer": "ipython3",
   "version": "3.9.12"
  }
 },
 "nbformat": 4,
 "nbformat_minor": 5
}
